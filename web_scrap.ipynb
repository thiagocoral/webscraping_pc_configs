{
 "cells": [
  {
   "cell_type": "code",
   "execution_count": 139,
   "metadata": {},
   "outputs": [],
   "source": [
    "from bs4 import BeautifulSoup\n",
    "import requests\n",
    "import re"
   ]
  },
  {
   "cell_type": "code",
   "execution_count": 153,
   "metadata": {},
   "outputs": [],
   "source": [
    "url = \"https://www.kabum.com.br/produto/167209/placa-de-v-deo-gigabyte-aorus-radeon-rx-6700-xt-elite-12g-rgb-gddr6-dlss-ray-tracing-gv-r67xtaorus-e-12gd\"\n",
    "page = requests.get(url)"
   ]
  },
  {
   "cell_type": "code",
   "execution_count": 154,
   "metadata": {},
   "outputs": [],
   "source": [
    "web_scraped = BeautifulSoup(page.text,\"html.parser\")"
   ]
  },
  {
   "cell_type": "code",
   "execution_count": 155,
   "metadata": {},
   "outputs": [],
   "source": [
    "titulo = web_scraped.title.text"
   ]
  },
  {
   "cell_type": "code",
   "execution_count": 156,
   "metadata": {},
   "outputs": [],
   "source": [
    "article = web_scraped.find_all(\"article\")\n",
    "preco = article[0].find_all(\"h4\")[0].text"
   ]
  },
  {
   "cell_type": "code",
   "execution_count": 157,
   "metadata": {},
   "outputs": [],
   "source": [
    "preco_treated = preco[0 : 2 : ] + preco[2 + 1 : :]"
   ]
  },
  {
   "cell_type": "code",
   "execution_count": null,
   "metadata": {},
   "outputs": [],
   "source": []
  },
  {
   "cell_type": "code",
   "execution_count": 158,
   "metadata": {},
   "outputs": [
    {
     "name": "stdout",
     "output_type": "stream",
     "text": [
      "Características:\n",
      "- Marca: Gigabyte\n",
      "- Modelo: GV-R67XTAORUS E-12GD\n",
      " \n",
      "Especificações:\n",
      "\n",
      "Geral:\n",
      "- Processamento de Gráficos: Radeon RX 6700 XT\n",
      "- Core Clock: Boost Clock *: até 2622 MHz // Game Clock *: até 2548 MHz\n",
      "- Processadores de fluxo: 2560\n",
      "- Processo tecnológico: 7 nm\n",
      " \n",
      "Memória:\n",
      "- Clock: 16000 MHz\n",
      "- Tamanho: 12 GB\n",
      "- Tipo: GDDR6\n",
      "- Bus: 192 bits\n",
      "- Largura de banda (GB/s): 384 GB/s\n",
      " \n",
      "Card Bus: \n",
      "- PCI-E 4.0 x 16\n",
      " \n",
      "Vídeo:\n",
      "- Resolução máxima digital: 7680x4320\n",
      "- Multi-view: 4\n",
      " \n",
      "Dimensões (L x W x H):\n",
      "- 296 x 114 x 56 mm\n",
      " \n",
      "Detalhes:\n",
      "- Formulário PCB: ATX\n",
      "- DirectX: 12 Ultimate\n",
      " \n",
      "Energia:\n",
      "- OpenGL: 4,6\n",
      "- PSU recomendado: 650W\n",
      "- Conectores de energia: 8 pinos x 1, 6 pinos x 1\n",
      " \n",
      "Conexões:\n",
      "- 2x DisplayPort 1.4a \n",
      "- 2x HDMI 2.1\n",
      " \n",
      "Suporte:\n",
      "- Suporte SLI: Não\n",
      " \n",
      "OBS:\n",
      "* “Boost Clock” é a frequência máxima atingível na GPU executando uma carga de trabalho intermitente. O alcance, a frequência e a sustentabilidade do relógio de impulso variam com base em vários fatores, incluindo, mas não se limitando a: condições térmicas e variação nas aplicações e cargas de trabalho.\n",
      "* “Game Clock” é o clock esperado da GPU ao executar aplicativos de jogos típicos, definido como TGP (Total Graphics Power) típico. Os resultados reais do relógio de jogo individual podem variar.\n",
      "* Todos os materiais fornecidos aqui são apenas para referência. A GIGABYTE se reserva o direito de modificar ou revisar o conteúdo a qualquer momento sem aviso prévio.\n",
      "* O desempenho anunciado é baseado nos valores teóricos máximos da interface dos respectivos fornecedores de chipset ou organização que definiu a especificação da interface. O desempenho real pode variar de acordo com a configuração do sistema.\n",
      "* Todas as marcas registradas e logotipos são propriedades de seus respectivos proprietários.\n",
      "* Devido à arquitetura padrão do PC, uma certa quantidade de memória é reservada para uso do sistema e, portanto, o tamanho real da memória é menor do que a quantidade declarada.\n",
      " \n",
      "Conteúdo da embalagem:\n",
      "- 1x Placa de Vídeo Gigabyte Aorus Radeon RX 6700 XT Elite 12G\n",
      "- 1x Metal sticker\n",
      "- 1x Guia rápido\n"
     ]
    }
   ],
   "source": [
    "tech_info = web_scraped.find(id=\"secaoInformacoesTecnicas\")\n",
    "for p in tech_info.find_all(\"p\"):\n",
    "    #if not p.text[0] == \"*\":\n",
    "    print(p.text)"
   ]
  },
  {
   "cell_type": "code",
   "execution_count": 162,
   "metadata": {},
   "outputs": [
    {
     "data": {
      "text/plain": [
       "'GV-R67XTAORUS E-12GD'"
      ]
     },
     "execution_count": 162,
     "metadata": {},
     "output_type": "execute_result"
    }
   ],
   "source": [
    "tech_info = web_scraped.find(id=\"secaoInformacoesTecnicas\")\n",
    "ps = tech_info.find_all(\"p\")\n",
    "brand = ps[1].text.split(\": \")[1]\n",
    "model = ps[2].text.split(\": \")[1]"
   ]
  },
  {
   "cell_type": "code",
   "execution_count": null,
   "metadata": {},
   "outputs": [],
   "source": []
  }
 ],
 "metadata": {
  "kernelspec": {
   "display_name": "Python 3",
   "language": "python",
   "name": "python3"
  },
  "language_info": {
   "codemirror_mode": {
    "name": "ipython",
    "version": 3
   },
   "file_extension": ".py",
   "mimetype": "text/x-python",
   "name": "python",
   "nbconvert_exporter": "python",
   "pygments_lexer": "ipython3",
   "version": "3.8.3"
  }
 },
 "nbformat": 4,
 "nbformat_minor": 4
}
